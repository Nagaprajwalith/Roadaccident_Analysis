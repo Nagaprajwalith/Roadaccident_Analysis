{
 "cells": [
  {
   "cell_type": "code",
   "execution_count": null,
   "id": "5933d899",
   "metadata": {},
   "outputs": [],
   "source": [
    "import numpy as np\n",
    "import pandas as pd\n",
    "import matplotlib.pyplot as plt\n",
    "import seaborn as sns\n",
    "import plotly.express as px\n",
    "import os"
   ]
  },
  {
   "cell_type": "code",
   "execution_count": null,
   "id": "048bd713",
   "metadata": {},
   "outputs": [],
   "source": [
    "data=pd.read_csv(\"RTA Dataset.csv\")"
   ]
  },
  {
   "cell_type": "code",
   "execution_count": null,
   "id": "ee1a90ff",
   "metadata": {},
   "outputs": [],
   "source": [
    "data.head()"
   ]
  },
  {
   "cell_type": "code",
   "execution_count": null,
   "id": "fdfd0492",
   "metadata": {},
   "outputs": [],
   "source": [
    "data.info()"
   ]
  },
  {
   "cell_type": "code",
   "execution_count": null,
   "id": "204fe967",
   "metadata": {},
   "outputs": [],
   "source": [
    "data.describe().T"
   ]
  },
  {
   "cell_type": "code",
   "execution_count": null,
   "id": "f0a3b575",
   "metadata": {},
   "outputs": [],
   "source": [
    "import pandas as pd\n",
    "file_path = 'RTA Dataset.csv'\n",
    "data = pd.read_csv(\"RTA Dataset.csv\")\n",
    "numeric_data = data.select_dtypes(include=['number'])\n",
    "skew = numeric_data.skew()\n",
    "print(skew)"
   ]
  },
  {
   "cell_type": "code",
   "execution_count": null,
   "id": "e91e62ac",
   "metadata": {},
   "outputs": [],
   "source": [
    "correlation = numeric_data.corr()\n",
    "plt.figure(figsize=(8, 8))\n",
    "sns.heatmap(correlation, annot=T\n",
    "            rue, cmap='Blues', fmt='.2f')\n",
    "plt.title('Correlation Heatmap')\n",
    "plt.show()"
   ]
  },
  {
   "cell_type": "code",
   "execution_count": null,
   "id": "db6bdd06",
   "metadata": {},
   "outputs": [],
   "source": [
    "import pandas as pd\n",
    "import plotly.express as px\n",
    "import plotly.offline as pyo\n",
    "\n",
    "# Initialize the offline mode\n",
    "pyo.init_notebook_mode(connected=False) \n",
    "px.pie(data, data['Sex_of_casualty'], data['Number_of_casualties'], template='ggplot2',hole=0.5)\n",
    "import pandas as pd\n",
    "import plotly.express as px\n",
    "file_path = 'RTA Dataset.csv'\n",
    "data = pd.read_csv(file_path)\n",
    "filtered_data = data[data['Sex_of_casualty'].isin(['Male', 'Female'])]\n",
    "fig = px.pie(\n",
    "    filtered_data,\n",
    "    names='Sex_of_casualty',\n",
    "    values='Number_of_casualties',\n",
    "    template='ggplot2',\n",
    "    hole=0.5,\n",
    "    title='Number of Casualties by Gender'\n",
    ")\n",
    "fig.show()"
   ]
  },
  {
   "cell_type": "code",
   "execution_count": null,
   "id": "571585b1",
   "metadata": {},
   "outputs": [],
   "source": [
    "import pandas as pd\n",
    "import plotly.express as px\n",
    "import plotly.offline as pyo\n",
    "\n",
    "# Initialize the offline mode\n",
    "pyo.init_notebook_mode(connected=False) \n",
    "px.violin(data,data['Road_surface_type'], data['Number_of_casualties'],color='Accident_severity',template='ggplot2')"
   ]
  },
  {
   "cell_type": "code",
   "execution_count": null,
   "id": "5fabb7fa",
   "metadata": {},
   "outputs": [],
   "source": [
    "import pandas as pd\n",
    "import plotly.express as px\n",
    "import plotly.offline as pyo\n",
    "\n",
    "# Initialize the offline mode\n",
    "pyo.init_notebook_mode(connected=False) \n",
    "px.pie(data,data['Accident_severity'],data['Number_of_casualties'],color='Accident_severity',template='ggplot2',hole=0.5)"
   ]
  },
  {
   "cell_type": "code",
   "execution_count": null,
   "id": "24051558",
   "metadata": {},
   "outputs": [],
   "source": [
    "import pandas as pd\n",
    "import plotly.express as px\n",
    "import plotly.offline as pyo\n",
    "\n",
    "# Initialize the offline mode\n",
    "pyo.init_notebook_mode(connected=False) \n",
    "px.pie(data,data['Cause_of_accident'],data['Number_of_casualties'],color='Cause_of_accident',template='ggplot2',hole=0.35)"
   ]
  },
  {
   "cell_type": "code",
   "execution_count": null,
   "id": "ca738913",
   "metadata": {},
   "outputs": [],
   "source": [
    "import pandas as pd\n",
    "import plotly.express as px\n",
    "import plotly.offline as pyo\n",
    "\n",
    "# Initialize the offline mode\n",
    "pyo.init_notebook_mode(connected=False) \n",
    "import pandas as pd\n",
    "import plotly.express as px\n",
    "days_order = ['Monday', 'Tuesday', 'Wednesday', 'Thursday', 'Friday', 'Saturday', 'Sunday']\n",
    "data['Day_of_week'] = pd.Categorical(data['Day_of_week'], categories=days_order, ordered=True)\n",
    "fig = px.histogram(\n",
    "    data,\n",
    "    x='Day_of_week',\n",
    "    y='Number_of_casualties',\n",
    "    color='Day_of_week',\n",
    "    template='ggplot2',\n",
    "    category_orders={'Day_of_week': days_order},\n",
    "    title='Number of Casualties by Day of the Week'\n",
    ")\n",
    "\n",
    "fig.show()\n"
   ]
  },
  {
   "cell_type": "code",
   "execution_count": null,
   "id": "9bc6f810",
   "metadata": {},
   "outputs": [],
   "source": [
    "import pandas as pd\n",
    "import plotly.express as px\n",
    "import plotly.offline as pyo\n",
    "\n",
    "# Initialize the offline mode\n",
    "pyo.init_notebook_mode(connected=False) \n",
    "import plotly.express as px\n",
    "fig = px.histogram(\n",
    "    data,\n",
    "    x='Educational_level',\n",
    "    y='Number_of_casualties',\n",
    "    color='Educational_level',\n",
    "    template='ggplot2'\n",
    ")\n",
    "fig.show()"
   ]
  },
  {
   "cell_type": "code",
   "execution_count": null,
   "id": "c3510fb1",
   "metadata": {},
   "outputs": [],
   "source": [
    "import pandas as pd\n",
    "import plotly.express as px\n",
    "import plotly.offline as pyo\n",
    "\n",
    "# Initialize the offline mode\n",
    "pyo.init_notebook_mode(connected=False) \n",
    "px.histogram(data,data['Vehicle_driver_relation'],data['Number_of_casualties'],color='Vehicle_driver_relation',template='ggplot2')"
   ]
  },
  {
   "cell_type": "code",
   "execution_count": null,
   "id": "fb0eff02",
   "metadata": {},
   "outputs": [],
   "source": [
    "df=data.copy(deep=True)\n",
    "df.head()"
   ]
  },
  {
   "cell_type": "code",
   "execution_count": null,
   "id": "a154b123",
   "metadata": {},
   "outputs": [],
   "source": [
    "df.isnull().sum()"
   ]
  },
  {
   "cell_type": "code",
   "execution_count": null,
   "id": "52e0422b",
   "metadata": {},
   "outputs": [],
   "source": [
    "df.shape"
   ]
  },
  {
   "cell_type": "code",
   "execution_count": null,
   "id": "5595c1f5",
   "metadata": {},
   "outputs": [],
   "source": [
    "df.size"
   ]
  },
  {
   "cell_type": "code",
   "execution_count": null,
   "id": "ac92ac2a",
   "metadata": {},
   "outputs": [],
   "source": [
    "df.drop(['Time','Driving_experience','Type_of_vehicle','Educational_level'],axis=1,inplace=True)\n"
   ]
  },
  {
   "cell_type": "code",
   "execution_count": null,
   "id": "0de9ae28",
   "metadata": {},
   "outputs": [],
   "source": [
    "df.drop(['Vehicle_driver_relation','Lanes_or_Medians','Owner_of_vehicle','Area_accident_occured','Road_allignment',\n",
    "         'Types_of_Junction','Light_conditions','Weather_conditions','Vehicle_movement','Fitness_of_casuality',\n",
    "        'Vehicle_movement','Age_band_of_driver','Sex_of_driver'],axis=1,inplace=True)\n",
    "df.drop(['Pedestrian_movement','Cause_of_accident','Work_of_casuality','Road_surface_conditions'],axis=1,inplace=True)\n",
    "df.drop(['Service_year_of_vehicle','Defect_of_vehicle'],axis=1,inplace=True)"
   ]
  },
  {
   "cell_type": "code",
   "execution_count": null,
   "id": "d7dc1cda",
   "metadata": {},
   "outputs": [],
   "source": [
    "df.dropna(inplace=True)"
   ]
  },
  {
   "cell_type": "code",
   "execution_count": null,
   "id": "c9c18fb2",
   "metadata": {},
   "outputs": [],
   "source": [
    "for i in df.columns:\n",
    "    if df[i].dtypes== object:\n",
    "        print(i)\n",
    "        print(df[i].unique())\n",
    "        print(df[i].nunique())\n",
    "        print()"
   ]
  },
  {
   "cell_type": "code",
   "execution_count": null,
   "id": "9534dbdd",
   "metadata": {},
   "outputs": [],
   "source": [
    "df.head()"
   ]
  },
  {
   "cell_type": "code",
   "execution_count": null,
   "id": "3b5116fb",
   "metadata": {},
   "outputs": [],
   "source": [
    "from sklearn.preprocessing import LabelEncoder\n",
    "\n",
    "l = LabelEncoder()\n",
    "for col in df.columns:\n",
    "    if df[col].dtype == object:\n",
    "        df[col] = l.fit_transform(df[col])"
   ]
  },
  {
   "cell_type": "code",
   "execution_count": null,
   "id": "8f5a2971",
   "metadata": {},
   "outputs": [],
   "source": [
    "df.head()"
   ]
  },
  {
   "cell_type": "code",
   "execution_count": null,
   "id": "3a8a48bb",
   "metadata": {},
   "outputs": [],
   "source": [
    "from sklearn.preprocessing import MinMaxScaler\n",
    "from sklearn.model_selection import train_test_split\n",
    "\n",
    "import pandas as pd\n",
    "x = pd.get_dummies(df.drop('Accident_severity', axis=1), drop_first=True)\n",
    "y = df['Accident_severity']\n",
    "xtrain, xtest, ytrain, ytest = train_test_split(x, y, test_size=0.30, random_state=42)\n",
    "mms = MinMaxScaler(feature_range=(0, 1))\n",
    "xtrain = mms.fit_transform(xtrain)\n",
    "xtest = mms.transform(xtest)\n",
    "xtrain = pd.DataFrame(xtrain, columns=x.columns)\n",
    "xtest = pd.DataFrame(xtest, columns=x.columns)"
   ]
  },
  {
   "cell_type": "code",
   "execution_count": null,
   "id": "b4bf7b32",
   "metadata": {},
   "outputs": [],
   "source": [
    "from sklearn.ensemble import RandomForestClassifier\n",
    "from sklearn.metrics import confusion_matrix, classification_report, accuracy_score, recall_score, f1_score, precision_score\n",
    "\n",
    "rf = RandomForestClassifier()\n",
    "rf.fit(xtrain, ytrain)\n",
    "\n",
    "ypred = rf.predict(xtest)\n",
    "\n",
    "conf_matrix = confusion_matrix(ytest, ypred)\n",
    "class_report = classification_report(ytest, ypred)\n",
    "accuracy = round(accuracy_score(ytest, ypred), 2)\n",
    "precision = round(precision_score(ytest, ypred, average='weighted'), 2)\n",
    "recall = round(recall_score(ytest, ypred, average='weighted'), 2)\n",
    "f1 = round(f1_score(ytest, ypred, average='weighted'), 2)\n",
    "\n",
    "print(f\"{'Confusion Matrix:':<25}\\n{conf_matrix}\")\n",
    "print(f\"{'Classification Report:':<25}\\n{class_report}\")\n",
    "print(f\"{'Accuracy:':<25}{accuracy}\")\n",
    "print(f\"{'Precision:':<25}{precision}\")\n",
    "print(f\"{'Recall:':<25}{recall}\")\n",
    "print(f\"{'F1 Score:':<25}{f1}\")\n"
   ]
  },
  {
   "cell_type": "code",
   "execution_count": null,
   "id": "e455689a",
   "metadata": {},
   "outputs": [],
   "source": [
    ","
   ]
  },
  {
   "cell_type": "code",
   "execution_count": null,
   "id": "fe802ea3",
   "metadata": {},
   "outputs": [],
   "source": []
  }
 ],
 "metadata": {
  "kernelspec": {
   "display_name": "Python 3 (ipykernel)",
   "language": "python",
   "name": "python3"
  },
  "language_info": {
   "codemirror_mode": {
    "name": "ipython",
    "version": 3
   },
   "file_extension": ".py",
   "mimetype": "text/x-python",
   "name": "python",
   "nbconvert_exporter": "python",
   "pygments_lexer": "ipython3",
   "version": "3.11.7"
  }
 },
 "nbformat": 4,
 "nbformat_minor": 5
}
